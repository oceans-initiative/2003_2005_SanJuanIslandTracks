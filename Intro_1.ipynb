{
 "cells": [
  {
   "cell_type": "raw",
   "metadata": {},
   "source": [
    "## Introduction to Oceans Initiative Theodolite datasets"
   ]
  },
  {
   "cell_type": "markdown",
   "metadata": {},
   "source": [
    "First, load in some libraries and python routines and helper functions"
   ]
  },
  {
   "cell_type": "code",
   "execution_count": 3,
   "metadata": {},
   "outputs": [],
   "source": [
    "import matplotlib.pyplot as plt\n",
    "import math\n",
    "import os\n",
    "\n",
    "import WhaleBoatObj   # NOTE BENE these python files have to be in the same directory as this file itself\n",
    "import whalePlot\n",
    "import helpers"
   ]
  },
  {
   "cell_type": "markdown",
   "metadata": {},
   "source": [
    "##Open pickled whale and boat data and create lists of passbys"
   ]
  },
  {
   "cell_type": "code",
   "execution_count": 4,
   "metadata": {},
   "outputs": [
    {
     "name": "stdout",
     "output_type": "stream",
     "text": [
      "Working directory is  /home/val/Documents/NFWF_Files/githubFiles/2003_2005_SanJuanIslandTracks\n"
     ]
    }
   ],
   "source": [
    "print(\"Working directory is \",os.getcwd())"
   ]
  },
  {
   "cell_type": "code",
   "execution_count": 6,
   "metadata": {},
   "outputs": [
    {
     "name": "stdout",
     "output_type": "stream",
     "text": [
      "Working directory is  /home/val/Documents/NFWF_Files/githubFiles/2003_2005_SanJuanIslandTracks\n"
     ]
    }
   ],
   "source": [
    "allPassbys = helpers.load_obj(\"CombinedPassbys\")"
   ]
  },
  {
   "cell_type": "markdown",
   "metadata": {},
   "source": [
    "allPassbys is a list and each item in the list is a single passby\n",
    "The number of passbys is the length of the allPassbys list"
   ]
  },
  {
   "cell_type": "code",
   "execution_count": 12,
   "metadata": {},
   "outputs": [
    {
     "data": {
      "text/plain": [
       "160"
      ]
     },
     "execution_count": 12,
     "metadata": {},
     "output_type": "execute_result"
    }
   ],
   "source": [
    "len(allPassbys)"
   ]
  },
  {
   "cell_type": "markdown",
   "metadata": {},
   "source": [
    "Each passby is one whale object and then a list with all of the boat observations during this passby"
   ]
  },
  {
   "cell_type": "code",
   "execution_count": 13,
   "metadata": {},
   "outputs": [
    {
     "data": {
      "text/plain": [
       "[<WhaleBoatObj.whaleObs at 0x7f53fc3e6c50>,\n",
       " [<WhaleBoatObj.boatObs at 0x7f5425f83bd0>,\n",
       "  <WhaleBoatObj.boatObs at 0x7f5425f9a690>,\n",
       "  <WhaleBoatObj.boatObs at 0x7f541c03bc50>,\n",
       "  <WhaleBoatObj.boatObs at 0x7f5425f9e450>,\n",
       "  <WhaleBoatObj.boatObs at 0x7f5425f9ee50>,\n",
       "  <WhaleBoatObj.boatObs at 0x7f53fc3ea750>,\n",
       "  <WhaleBoatObj.boatObs at 0x7f53fc3eac10>,\n",
       "  <WhaleBoatObj.boatObs at 0x7f53fc309150>,\n",
       "  <WhaleBoatObj.boatObs at 0x7f53fc309610>]]"
      ]
     },
     "execution_count": 13,
     "metadata": {},
     "output_type": "execute_result"
    }
   ],
   "source": [
    "allPassbys[0]"
   ]
  },
  {
   "cell_type": "code",
   "execution_count": 14,
   "metadata": {},
   "outputs": [
    {
     "data": {
      "text/plain": [
       "<WhaleBoatObj.whaleObs at 0x7f53fc3e6c50>"
      ]
     },
     "execution_count": 14,
     "metadata": {},
     "output_type": "execute_result"
    }
   ],
   "source": [
    "allPassbys[0][0]"
   ]
  },
  {
   "cell_type": "code",
   "execution_count": 16,
   "metadata": {},
   "outputs": [
    {
     "data": {
      "text/plain": [
       "[<WhaleBoatObj.boatObs at 0x7f5425f83bd0>,\n",
       " <WhaleBoatObj.boatObs at 0x7f5425f9a690>,\n",
       " <WhaleBoatObj.boatObs at 0x7f541c03bc50>,\n",
       " <WhaleBoatObj.boatObs at 0x7f5425f9e450>,\n",
       " <WhaleBoatObj.boatObs at 0x7f5425f9ee50>,\n",
       " <WhaleBoatObj.boatObs at 0x7f53fc3ea750>,\n",
       " <WhaleBoatObj.boatObs at 0x7f53fc3eac10>,\n",
       " <WhaleBoatObj.boatObs at 0x7f53fc309150>,\n",
       " <WhaleBoatObj.boatObs at 0x7f53fc309610>]"
      ]
     },
     "execution_count": 16,
     "metadata": {},
     "output_type": "execute_result"
    }
   ],
   "source": [
    "allPassbys[0][1]"
   ]
  },
  {
   "cell_type": "code",
   "execution_count": null,
   "metadata": {},
   "outputs": [],
   "source": []
  },
  {
   "cell_type": "code",
   "execution_count": null,
   "metadata": {},
   "outputs": [],
   "source": []
  }
 ],
 "metadata": {
  "kernelspec": {
   "display_name": "Python 3",
   "language": "python",
   "name": "python3"
  },
  "language_info": {
   "codemirror_mode": {
    "name": "ipython",
    "version": 3
   },
   "file_extension": ".py",
   "mimetype": "text/x-python",
   "name": "python",
   "nbconvert_exporter": "python",
   "pygments_lexer": "ipython3",
   "version": "3.7.6"
  }
 },
 "nbformat": 4,
 "nbformat_minor": 2
}
